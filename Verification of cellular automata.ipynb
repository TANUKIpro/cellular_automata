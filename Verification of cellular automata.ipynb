{
 "cells": [
  {
   "cell_type": "code",
   "execution_count": 1,
   "metadata": {},
   "outputs": [],
   "source": [
    "import numpy as np\n",
    "import matplotlib.pyplot as plt"
   ]
  },
  {
   "cell_type": "code",
   "execution_count": 220,
   "metadata": {
    "code_folding": []
   },
   "outputs": [],
   "source": [
    "# <<global status>>\n",
    "nothing = 0\n",
    "\n",
    "soil = 'soil'\n",
    "soil_representation = -1  #  配列内での表現値\n",
    "\n",
    "trunk                      = 'trunk'\n",
    "trunk_representation       = 1             #  配列内での表現値\n",
    "trunk_LifeSpam             = float('inf')  #  寿命\n",
    "trunk_MentalStressCapacity = float('inf')  #  メンタルストレス容量\n",
    "trunk_GrowthRate           = 1#0.5           #  成長率\n",
    "\n",
    "leaf                         = 'leaf'\n",
    "leaf_representation          = 2      #  配列内での表現値\n",
    "leaf_LifeSpam                = 500    #  寿命\n",
    "leaf_MentalStressCapacity    = 30     #  メンタルストレス容量\n",
    "leaf_LightStressAccThreshold = 10     #  光由来のメンタルストレス受容閾値\n",
    "leaf_GrowthRate              = 1#0.3    #  成長率\n",
    "\n",
    "class Cell:\n",
    "    global trunk, trunk_LifeSpam, trunk_MentalStressCapacity\n",
    "    global leaf, leaf_LifeSpam, leaf_MentalStressCapacity, leaf_LightStressAccThreshold\n",
    "    def __init__(self):\n",
    "        # <<own status>>\n",
    "        self.name         = None  # trunk / leaf\n",
    "        self.coordination = None  # [[x, y, (z)]]\n",
    "        self.size_status  = None  # [width, height, (depth), weight]\n",
    "        self.survival     = True  # True(live) / False(dead)\n",
    "        self.age          = 0\n",
    "        self.mentalStress = 0\n",
    "        self.around_data  = None\n",
    "        #self.physicalStress = 0\n",
    "        \n",
    "        # <<environmental　status>>\n",
    "        self.lightness = 100\n",
    "    \n",
    "    def __del__(self):\n",
    "        pass\n",
    "    \n",
    "    # 配列の更新用\n",
    "    def paint(self, field_array):\n",
    "        if self.name == trunk:\n",
    "            x, y = self.coordination[0]  #  <-- fixme\n",
    "            field_array[y, x] = 1\n",
    "        elif self.name == leaf:\n",
    "            for cd in self.coordination:\n",
    "                x, y = cd\n",
    "                field_array[y, x] = 2\n",
    "        return field_array\n",
    "    \n",
    "    # 成長用\n",
    "    def growth(self, cells_list, field_array):\n",
    "        if self.name == trunk:\n",
    "            if self.age > 50:\n",
    "                if np.random.rand() <= trunk_GrowthRate:\n",
    "                    new_trunk = Cell()\n",
    "                    new_trunk.name = trunk\n",
    "                    x, y = self.coordination[0]\n",
    "                    # 70%で上方向へ成長\n",
    "                    if np.random.rand() <= 0.7:\n",
    "                        #上が0\n",
    "                        if self.around_data[0][1] == nothing:\n",
    "                            new_trunk.coordination = np.array([[x, y+1]])\n",
    "                    else:\n",
    "                        #左が0\n",
    "                        if self.around_data[1][0] == nothing:\n",
    "                            new_trunk.coordination = np.array([[x-1, y]])\n",
    "                        #右が0\n",
    "                        if self.around_data[1][2] == nothing:\n",
    "                            new_trunk.coordination = np.array([[x+1, y]])\n",
    "                    cells_list.append(new_trunk)\n",
    "        elif self.name == leaf:\n",
    "            if self.age > 10:\n",
    "                if np.random.rand() <= leaf_GrowthRate:\n",
    "                    new_leaf = Cell()\n",
    "                    new_leaf.name = leaf\n",
    "                    x, y = self.coordination[:,-1], self.coordination[:,0][0]  #  <-- fixme\n",
    "                    xL, xR = x\n",
    "                    arL, arR = self.around_data[1][0], self.around_data[1][-1]  #  <-- fixme\n",
    "                    if arL == nothing:\n",
    "                        new_leaf.coordination = np.array([[xL-2, y]])\n",
    "                    if arR == nothing:\n",
    "                        new_leaf.coordination = np.array([[xR+2, y]])\n",
    "                    cells_list.append(new_leaf)\n",
    "    \n",
    "    # 周囲の状況把握用\n",
    "    def look_around(self, field_array):\n",
    "        if self.name == trunk:\n",
    "            x, y = self.coordination[0]  #  <-- fixme\n",
    "            xL = xR = x\n",
    "        elif self.name == leaf:\n",
    "            x, y = self.coordination[:,-1], self.coordination[:,0][0]  #  <-- fixme\n",
    "            xL, xR = x\n",
    "            \n",
    "        upper  = field_array[y-1,:][xL-1:xR+2]\n",
    "        center = field_array[y,  :][xL-1:xR+2]\n",
    "        lower  = field_array[y+1,:][xL-1:xR+2]\n",
    "        \n",
    "        self.around_data = np.array([upper, center, lower])\n",
    "        \n",
    "    # 日照把握用\n",
    "    def sunlight(self, field_array):\n",
    "        pass\n",
    "    \n",
    "    # ペナルティ部の更新用\n",
    "    def destruction(self):\n",
    "        if self.name == trunk:\n",
    "            # 寿命\n",
    "            if self.age > trunk_LifeSpam:\n",
    "                self.survival = False\n",
    "            # 空中浮遊対策\n",
    "            #if np.sum(self.around_data) <= np.prod(self.size_status[0:2])*trunk_representation:\n",
    "            #    self.survival = False\n",
    "            # メンタルストレス死\n",
    "            if self.mentalStress > trunk_MentalStressCapacity:\n",
    "                self.survival = False\n",
    "        elif self.name == leaf:\n",
    "            # 寿命\n",
    "            if self.age > leaf_LifeSpam:\n",
    "                self.survival = False\n",
    "            # 空中浮遊対策\n",
    "            #if np.sum(self.around_data) <= np.prod(self.size_status[0:2])*leaf_representation:\n",
    "            #    self.survival = False\n",
    "            # メンタルストレス死\n",
    "            if self.mentalStress > leaf_MentalStressCapacity:\n",
    "                self.survival = False\n",
    "            # 日照不足によるメンタルストレス増加\n",
    "            if self.lightness < leaf_LightStressAccThreshold:\n",
    "                self.mentalStress += 1\n",
    "    \n",
    "    def update(self, cells_list, field_array):\n",
    "        self.age += 1\n",
    "        self.look_around(field_array)\n",
    "        self.destruction()\n",
    "        self.growth(cells_list, field_array)\n",
    "        field_array = self.paint(field_array)\n",
    "        return field_array"
   ]
  },
  {
   "cell_type": "code",
   "execution_count": 221,
   "metadata": {},
   "outputs": [],
   "source": [
    "## basic init\n",
    "cells_list = []\n",
    "\n",
    "## field init\n",
    "field_size = 100\n",
    "gnd_depth = 5\n",
    "field_array = np.zeros((field_size, field_size))\n",
    "field_array[-gnd_depth:,:] += soil_representation\n",
    "\n",
    "## plant seed\n",
    "seed = Cell()\n",
    "seed.name = trunk\n",
    "seed.coordination = np.array([[int(field_size/2), int(field_size-gnd_depth-1)]])\n",
    "seed.basic_status = [1,1,None,1]\n",
    "cells_list.append(seed)"
   ]
  },
  {
   "cell_type": "code",
   "execution_count": 222,
   "metadata": {},
   "outputs": [
    {
     "name": "stdout",
     "output_type": "stream",
     "text": [
      "50 94\n"
     ]
    },
    {
     "data": {
      "text/plain": [
       "<matplotlib.image.AxesImage at 0x7f7eee09dad0>"
      ]
     },
     "execution_count": 222,
     "metadata": {},
     "output_type": "execute_result"
    },
    {
     "data": {
      "image/png": "[encoded data removed]",
      "text/plain": [
       "<Figure size 288x288 with 1 Axes>"
      ]
     },
     "metadata": {
      "needs_background": "light"
     },
     "output_type": "display_data"
    }
   ],
   "source": [
    "x, y = seed.coordination[0]\n",
    "print(x, y)\n",
    "field_array[y,x] = 1\n",
    "plt.matshow(field_array)"
   ]
  },
  {
   "cell_type": "code",
   "execution_count": null,
   "metadata": {
    "scrolled": false
   },
   "outputs": [
    {
     "name": "stdout",
     "output_type": "stream",
     "text": [
      "375"
     ]
    }
   ],
   "source": [
    "while True:\n",
    "    for cell in cells_list:\n",
    "        if cell.coordination is None:\n",
    "            continue\n",
    "        field_array = cell.update(cells_list, field_array)\n",
    "        #plt.matshow(field_array)\n",
    "    print(\"\\r\"+str(seed.age), end='')\n",
    "    if seed.age == 1000:\n",
    "        break"
   ]
  },
  {
   "cell_type": "code",
   "execution_count": 219,
   "metadata": {},
   "outputs": [
    {
     "data": {
      "text/plain": [
       "<matplotlib.image.AxesImage at 0x7f7ecad21050>"
      ]
     },
     "execution_count": 219,
     "metadata": {},
     "output_type": "execute_result"
    },
    {
     "data": {
      "image/png": "[encoded data removed]",
      "text/plain": [
       "<Figure size 1152x230.4 with 1 Axes>"
      ]
     },
     "metadata": {
      "needs_background": "light"
     },
     "output_type": "display_data"
    }
   ],
   "source": [
    "plt.matshow(field_array[80:,:])"
   ]
  },
  {
   "cell_type": "markdown",
   "metadata": {},
   "source": [
    "# TEST FIELD"
   ]
  },
  {
   "cell_type": "code",
   "execution_count": 18,
   "metadata": {},
   "outputs": [
    {
     "name": "stdout",
     "output_type": "stream",
     "text": [
      "now :  2\n",
      "[[ 0  0  0  0  0  0  0]\n",
      " [ 0  2  2  1  0  0  0]\n",
      " [ 0  0  0  1  0  0  0]\n",
      " [ 0  2  2  1  2  2  0]\n",
      " [ 0  0  0  1  0  0  0]\n",
      " [ 0  0  0  1  0  0  0]\n",
      " [-1 -1 -1 -1 -1 -1 -1]]\n"
     ]
    }
   ],
   "source": [
    "a = np.array([[0,0,0,0,0,0,0],\n",
    "              [0,2,2,1,0,0,0],\n",
    "              [0,0,0,1,0,0,0],\n",
    "              [0,2,2,1,2,2,0],\n",
    "              [0,0,0,1,0,0,0],\n",
    "              [0,0,0,1,0,0,0],\n",
    "              [-1,-1,-1,-1,-1,-1,-1] ])\n",
    "\n",
    "coord = [[3,1],[3,2]]\n",
    "row, col = 3, 1\n",
    "now = a[row][col]\n",
    "print(\"now : \",now)\n",
    "print(a)"
   ]
  },
  {
   "cell_type": "code",
   "execution_count": 19,
   "metadata": {},
   "outputs": [
    {
     "data": {
      "text/plain": [
       "array([0, 2, 2, 1, 2, 2, 0])"
      ]
     },
     "execution_count": 19,
     "metadata": {},
     "output_type": "execute_result"
    }
   ],
   "source": [
    "a[row,:]"
   ]
  },
  {
   "cell_type": "code",
   "execution_count": 20,
   "metadata": {},
   "outputs": [
    {
     "name": "stdout",
     "output_type": "stream",
     "text": [
      "[0] [2 2 1 2 2]\n",
      "[0 2 0] [2 0 0]\n"
     ]
    }
   ],
   "source": [
    "left, right = a[row,:][0:col], a[row,:][col:-1]\n",
    "upper, lower = a[:,col][0:row], a[:,col][row:-1]\n",
    "print(left, right)\n",
    "print(upper, lower)"
   ]
  },
  {
   "cell_type": "code",
   "execution_count": 23,
   "metadata": {},
   "outputs": [
    {
     "data": {
      "text/plain": [
       "array([0, 1, 0])"
      ]
     },
     "execution_count": 23,
     "metadata": {},
     "output_type": "execute_result"
    }
   ],
   "source": [
    "x,y=3,3\n",
    "upper = a[x-1,:][x-1:x+2]\n",
    "center = a[x,:][x-1:x+2]\n",
    "lower = a[x+1,:][x-1:x+2]\n",
    "around = np.array([upper, center, lower])\n",
    "around[0]"
   ]
  },
  {
   "cell_type": "code",
   "execution_count": 10,
   "metadata": {},
   "outputs": [
    {
     "data": {
      "text/plain": [
       "<matplotlib.image.AxesImage at 0x7f7f121a2050>"
      ]
     },
     "execution_count": 10,
     "metadata": {},
     "output_type": "execute_result"
    },
    {
     "data": {
      "image/png": "[encoded data removed]",
      "text/plain": [
       "<Figure size 288x288 with 1 Axes>"
      ]
     },
     "metadata": {
      "needs_background": "light"
     },
     "output_type": "display_data"
    }
   ],
   "source": [
    "plt.matshow(a)"
   ]
  },
  {
   "cell_type": "code",
   "execution_count": 29,
   "metadata": {},
   "outputs": [],
   "source": [
    "n=np.array([[1,0,0,0],\n",
    "            [1,2,2,0],\n",
    "            [1,1,0,0]])"
   ]
  },
  {
   "cell_type": "code",
   "execution_count": 34,
   "metadata": {},
   "outputs": [
    {
     "data": {
      "text/plain": [
       "8"
      ]
     },
     "execution_count": 34,
     "metadata": {},
     "output_type": "execute_result"
    }
   ],
   "source": [
    "np.sum(n)"
   ]
  },
  {
   "cell_type": "code",
   "execution_count": null,
   "metadata": {},
   "outputs": [],
   "source": []
  }
 ],
 "metadata": {
  "kernelspec": {
   "display_name": "Python 3",
   "language": "python",
   "name": "python3"
  },
  "language_info": {
   "codemirror_mode": {
    "name": "ipython",
    "version": 3
   },
   "file_extension": ".py",
   "mimetype": "text/x-python",
   "name": "python",
   "nbconvert_exporter": "python",
   "pygments_lexer": "ipython3",
   "version": "3.7.7"
  }
 },
 "nbformat": 4,
 "nbformat_minor": 4
}
