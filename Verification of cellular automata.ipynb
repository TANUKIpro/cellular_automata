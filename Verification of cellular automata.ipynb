{
 "cells": [
  {
   "cell_type": "code",
   "execution_count": 1,
   "metadata": {},
   "outputs": [],
   "source": [
    "import numpy as np\n",
    "import matplotlib.pyplot as plt"
   ]
  },
  {
   "cell_type": "code",
   "execution_count": 2,
   "metadata": {},
   "outputs": [],
   "source": [
    "# <global status>\n",
    "g = 9.8\n",
    "\n",
    "class Cell:\n",
    "    def __init__(self):\n",
    "        # <own status>\n",
    "        self.survival = True  # True(live) / False(dead)\n",
    "        self.name = None  # trunk(幹) / leaf(葉)\n",
    "        self.coordination = None  # [x, y, (z)]\n",
    "        self.size_status = None  # [width, height, (depth), weight]\n",
    "        self.age = 0\n",
    "        self.stress = 0\n",
    "        self.around = None\n",
    "        \n",
    "        # <environmental　status>\n",
    "        self.lightness = None\n",
    "    \n",
    "    # 成長用\n",
    "    def growth(self):\n",
    "        if self.name == 'trunk':\n",
    "            pass\n",
    "        elif self.name == 'leaf':\n",
    "            pass\n",
    "        \n",
    "    # 周囲の状況把握用\n",
    "    def look_around(self, array):\n",
    "        if self.name == 'trunk':\n",
    "            x, y = self.coordination\n",
    "            xTOP = xEND = x\n",
    "        elif self.name == 'leaf':\n",
    "            x, y = self.coordination[:,-1]\n",
    "            xTOP, xEND = x\n",
    "            \n",
    "        upper　= array[y-1,:][xTOP-1:xEND+1]\n",
    "        center = array[y,:][xTOP-1:xEND+1]\n",
    "        lower = array[y+1,:][xTOP-1:xEND+1]\n",
    "        \n",
    "        self.around = np.array([upper, center, lower])\n",
    "        \n",
    "    def update(self):\n",
    "        self.age += 1\n",
    "        if self.name == 'trunk':\n",
    "            pass\n",
    "        elif self.name == 'leaf':\n",
    "            if self.age > 50:\n",
    "                self.survival = False\n",
    "            if self.stress > 20:\n",
    "                self.survival = False\n",
    "            if self.lightness<10:\n",
    "                self.stress += 1"
   ]
  },
  {
   "cell_type": "code",
   "execution_count": null,
   "metadata": {},
   "outputs": [],
   "source": [
    "cells_list = []\n",
    "#field_size = 10000\n",
    "#field = np.ndarray((field_size, field_size))\n",
    "\n",
    "## plant seed\n",
    "seed = Cell()\n",
    "seed.name = 'trunk'\n",
    "seed.coordination = [0,-1]\n",
    "seed.basic_status = [1,1,None,1]\n",
    "cells_list.append(seed)"
   ]
  },
  {
   "cell_type": "code",
   "execution_count": 69,
   "metadata": {},
   "outputs": [
    {
     "name": "stdout",
     "output_type": "stream",
     "text": [
      "now :  2\n",
      "[[ 0  0  0  0  0  0  0]\n",
      " [ 0  2  2  1  0  0  0]\n",
      " [ 0  0  0  1  0  0  0]\n",
      " [ 0  2  2  1  2  2  0]\n",
      " [ 0  0  0  1  0  0  0]\n",
      " [ 0  0  0  1  0  0  0]\n",
      " [-1 -1 -1 -1 -1 -1 -1]]\n"
     ]
    }
   ],
   "source": [
    "a = np.array([ [0,0,0,0,0,0,0],\n",
    "                         [0,2,2,1,0,0,0],\n",
    "                         [0,0,0,1,0,0,0],\n",
    "                         [0,2,2,1,2,2,0],\n",
    "                         [0,0,0,1,0,0,0],\n",
    "                         [0,0,0,1,0,0,0],\n",
    "                         [-1,-1,-1,-1,-1,-1,-1] ])\n",
    "coord = [[3,1],[3,2]]\n",
    "row, col = 3, 1\n",
    "now = a[row][col]\n",
    "print(\"now : \",now)\n",
    "print(a)"
   ]
  },
  {
   "cell_type": "code",
   "execution_count": 70,
   "metadata": {},
   "outputs": [
    {
     "data": {
      "text/plain": [
       "array([0, 2, 2, 1, 2, 2, 0])"
      ]
     },
     "execution_count": 70,
     "metadata": {},
     "output_type": "execute_result"
    }
   ],
   "source": [
    "a[row,:]"
   ]
  },
  {
   "cell_type": "code",
   "execution_count": 71,
   "metadata": {},
   "outputs": [
    {
     "name": "stdout",
     "output_type": "stream",
     "text": [
      "[0] [2 2 1 2 2]\n",
      "[0 2 0] [2 0 0]\n"
     ]
    }
   ],
   "source": [
    "left, right = a[row,:][0:col], a[row,:][col:-1]\n",
    "upper, lower = a[:,col][0:row], a[:,col][row:-1]\n",
    "print(left, right)\n",
    "print(upper, lower)"
   ]
  },
  {
   "cell_type": "code",
   "execution_count": 77,
   "metadata": {},
   "outputs": [
    {
     "data": {
      "text/plain": [
       "array([[0, 1, 0],\n",
       "       [2, 1, 2],\n",
       "       [0, 1, 0]])"
      ]
     },
     "execution_count": 77,
     "metadata": {},
     "output_type": "execute_result"
    }
   ],
   "source": [
    "x,y=3,3\n",
    "upper = a[x-1,:][x-1:x+2]\n",
    "center = a[x,:][x-1:x+2]\n",
    "lower = a[x+1,:][x-1:x+2]\n",
    "np.array([upper, center, lower])"
   ]
  },
  {
   "cell_type": "code",
   "execution_count": 41,
   "metadata": {},
   "outputs": [
    {
     "data": {
      "text/plain": [
       "<matplotlib.image.AxesImage at 0x7ff42b75bd90>"
      ]
     },
     "execution_count": 41,
     "metadata": {},
     "output_type": "execute_result"
    },
    {
     "data": {
      "image/png": "[encoded data removed]",
      "text/plain": [
       "<Figure size 288x288 with 1 Axes>"
      ]
     },
     "metadata": {
      "needs_background": "light"
     },
     "output_type": "display_data"
    }
   ],
   "source": [
    "plt.matshow(a)"
   ]
  },
  {
   "cell_type": "code",
   "execution_count": 88,
   "metadata": {},
   "outputs": [
    {
     "name": "stdout",
     "output_type": "stream",
     "text": [
      "[[3 1]\n",
      " [3 2]]\n"
     ]
    }
   ],
   "source": [
    "b = np.array([[3,1],[3,2]])\n",
    "print(b)"
   ]
  },
  {
   "cell_type": "code",
   "execution_count": 90,
   "metadata": {},
   "outputs": [
    {
     "data": {
      "text/plain": [
       "(array([3, 3]), array([1, 2]))"
      ]
     },
     "execution_count": 90,
     "metadata": {},
     "output_type": "execute_result"
    }
   ],
   "source": [
    "b[:,0], b[:,-1]"
   ]
  },
  {
   "cell_type": "code",
   "execution_count": null,
   "metadata": {},
   "outputs": [],
   "source": []
  }
 ],
 "metadata": {
  "kernelspec": {
   "display_name": "Python 3",
   "language": "python",
   "name": "python3"
  },
  "language_info": {
   "codemirror_mode": {
    "name": "ipython",
    "version": 3
   },
   "file_extension": ".py",
   "mimetype": "text/x-python",
   "name": "python",
   "nbconvert_exporter": "python",
   "pygments_lexer": "ipython3",
   "version": "3.7.7"
  }
 },
 "nbformat": 4,
 "nbformat_minor": 4
}
