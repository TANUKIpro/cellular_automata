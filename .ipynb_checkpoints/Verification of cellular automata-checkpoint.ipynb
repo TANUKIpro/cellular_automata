{
 "cells": [
  {
   "cell_type": "code",
   "execution_count": 1,
   "metadata": {},
   "outputs": [],
   "source": [
    "import numpy as np\n",
    "import matplotlib.pyplot as plt"
   ]
  },
  {
   "cell_type": "code",
   "execution_count": 2,
   "metadata": {
    "code_folding": []
   },
   "outputs": [],
   "source": [
    "# <global status>\n",
    "g = 9.8\n",
    "\n",
    "#  土\n",
    "soil = 'soil'\n",
    "soil_representation = -1  #  配列内での表現値\n",
    "\n",
    "#  幹\n",
    "trunk = 'trunk'\n",
    "trunk_representation = 1  #  配列内での表現値\n",
    "trunk_LifeSpam = float('inf')  #  寿命\n",
    "trunk_MentalStressCapacity = float('inf')  #  メンタルストレス容量\n",
    "\n",
    "#  葉\n",
    "leaf = 'leaf'\n",
    "leaf_representation = 2  #  配列内での表現値\n",
    "leaf_LifeSpam = 100  #  寿命\n",
    "leaf_MentalStressCapacity = 20  #  メンタルストレス容量\n",
    "leaf_LightstressAccThreshold = 10  #  光由来のメンタルストレス受容閾値\n",
    "\n",
    "class Cell:\n",
    "    global trunk, trunk_LifeSpam, trunk_MentalStressCapacity\n",
    "    global leaf, leaf_LifeSpam, leaf_MentalStressCapacity, leaf_LightstressAccThreshold\n",
    "    def __init__(self):\n",
    "        # <own status>\n",
    "        self.survival : bool = True  # True(live) / False(dead)\n",
    "        self.name : str = None  # trunk / leaf\n",
    "        self.coordination : list = None  # [x, y, (z)]\n",
    "        self.size_status : list = None  # [width, height, (depth), weight]\n",
    "        self.age : int = 0\n",
    "        self.stress : int = 0\n",
    "        self.around : numpy.ndarray = None\n",
    "        \n",
    "        # <environmental　status>\n",
    "        self.lightness = None\n",
    "    \n",
    "    def __del__(self):\n",
    "        pass\n",
    "    \n",
    "    # (配列への)描画用\n",
    "    def paint(self, field_array):\n",
    "        if self.name == trunk:\n",
    "            x, y = self.coordination[0]  #  <-- fixme\n",
    "            field_array[x, y] = 1\n",
    "        elif self.name == leaf:\n",
    "            for cd in self.coordination:\n",
    "                x, y = cd\n",
    "                field_array[x, y] = 2\n",
    "        return field_array\n",
    "    \n",
    "    # 成長用\n",
    "    def growth(self, cells_list):\n",
    "        if self.name == trunk:\n",
    "            pass\n",
    "        elif self.name == leaf:\n",
    "            pass\n",
    "        \n",
    "    # 周囲の状況把握用\n",
    "    def look_around(self, field_array):\n",
    "        if self.name == trunk:\n",
    "            x, y = self.coordination[0]  #  <-- fixme\n",
    "            xTOP = xEND = x\n",
    "        elif self.name == leaf:\n",
    "            x, y = self.coordination[:,-1], self.coordination[:,0][0]  #  <-- fixme\n",
    "            xTOP, xEND = x\n",
    "            \n",
    "        upper = field_array[y-1,:][xTOP-1:xEND+2]\n",
    "        center = field_array[y,:][xTOP-1:xEND+2]\n",
    "        lower = field_array[y+1,:][xTOP-1:xEND+2]\n",
    "        \n",
    "        self.around = np.array([upper, center, lower])\n",
    "        \n",
    "    def destruction(self):\n",
    "        if self.name == trunk:\n",
    "            if self.age > trunk_LifeSpam:\n",
    "                self.survival = False\n",
    "            elif self.stress > trunk_MentalStressCapacity:\n",
    "                self.survival = False\n",
    "        elif self.name == leaf:\n",
    "            if self.age > leaf_LifeSpam:\n",
    "                self.survival = False\n",
    "            elif self.stress > leaf_MentalStressCapacity:\n",
    "                self.survival = False\n",
    "            elif self.lightness < leaf_LightstressAccThreshold:\n",
    "                self.stress += 1\n",
    "    \n",
    "    def update(self, field_array, cells_list):\n",
    "        self.age += 1\n",
    "        self.look_around(field_array)\n",
    "        self.destruction()\n",
    "        "
   ]
  },
  {
   "cell_type": "code",
   "execution_count": 3,
   "metadata": {},
   "outputs": [],
   "source": [
    "## basic init\n",
    "cells_list = []\n",
    "\n",
    "## field init\n",
    "field_size = 1000\n",
    "field_array = np.ndarray((field_size, field_size))\n",
    "field_array[-50:,:] += -1\n",
    "\n",
    "## plant seed\n",
    "seed = Cell()\n",
    "seed.name = trunk\n",
    "seed.coordination = [0,-1]\n",
    "seed.basic_status = [1,1,None,1]\n",
    "cells_list.append(seed)"
   ]
  },
  {
   "cell_type": "code",
   "execution_count": 4,
   "metadata": {},
   "outputs": [
    {
     "data": {
      "text/plain": [
       "<matplotlib.image.AxesImage at 0x7fec9531e850>"
      ]
     },
     "execution_count": 4,
     "metadata": {},
     "output_type": "execute_result"
    },
    {
     "data": {
      "image/png": "[encoded data removed]",
      "text/plain": [
       "<Figure size 288x288 with 1 Axes>"
      ]
     },
     "metadata": {
      "needs_background": "light"
     },
     "output_type": "display_data"
    }
   ],
   "source": [
    "plt.matshow(field_array)"
   ]
  },
  {
   "cell_type": "code",
   "execution_count": 5,
   "metadata": {},
   "outputs": [
    {
     "name": "stdout",
     "output_type": "stream",
     "text": [
      "now :  2\n",
      "[[ 0  0  0  0  0  0  0]\n",
      " [ 0  2  2  1  0  0  0]\n",
      " [ 0  0  0  1  0  0  0]\n",
      " [ 0  2  2  1  2  2  0]\n",
      " [ 0  0  0  1  0  0  0]\n",
      " [ 0  0  0  1  0  0  0]\n",
      " [-1 -1 -1 -1 -1 -1 -1]]\n"
     ]
    }
   ],
   "source": [
    "a = np.array([ [0,0,0,0,0,0,0],\n",
    "                         [0,2,2,1,0,0,0],\n",
    "                         [0,0,0,1,0,0,0],\n",
    "                         [0,2,2,1,2,2,0],\n",
    "                         [0,0,0,1,0,0,0],\n",
    "                         [0,0,0,1,0,0,0],\n",
    "                         [-1,-1,-1,-1,-1,-1,-1] ])\n",
    "coord = [[3,1],[3,2]]\n",
    "row, col = 3, 1\n",
    "now = a[row][col]\n",
    "print(\"now : \",now)\n",
    "print(a)"
   ]
  },
  {
   "cell_type": "code",
   "execution_count": 6,
   "metadata": {},
   "outputs": [
    {
     "data": {
      "text/plain": [
       "array([0, 2, 2, 1, 2, 2, 0])"
      ]
     },
     "execution_count": 6,
     "metadata": {},
     "output_type": "execute_result"
    }
   ],
   "source": [
    "a[row,:]"
   ]
  },
  {
   "cell_type": "code",
   "execution_count": 7,
   "metadata": {},
   "outputs": [
    {
     "name": "stdout",
     "output_type": "stream",
     "text": [
      "[0] [2 2 1 2 2]\n",
      "[0 2 0] [2 0 0]\n"
     ]
    }
   ],
   "source": [
    "left, right = a[row,:][0:col], a[row,:][col:-1]\n",
    "upper, lower = a[:,col][0:row], a[:,col][row:-1]\n",
    "print(left, right)\n",
    "print(upper, lower)"
   ]
  },
  {
   "cell_type": "code",
   "execution_count": 8,
   "metadata": {},
   "outputs": [
    {
     "data": {
      "text/plain": [
       "array([[0, 1, 0],\n",
       "       [2, 1, 2],\n",
       "       [0, 1, 0]])"
      ]
     },
     "execution_count": 8,
     "metadata": {},
     "output_type": "execute_result"
    }
   ],
   "source": [
    "x,y=3,3\n",
    "upper = a[x-1,:][x-1:x+2]\n",
    "center = a[x,:][x-1:x+2]\n",
    "lower = a[x+1,:][x-1:x+2]\n",
    "np.array([upper, center, lower])"
   ]
  },
  {
   "cell_type": "code",
   "execution_count": 9,
   "metadata": {},
   "outputs": [
    {
     "data": {
      "text/plain": [
       "<matplotlib.image.AxesImage at 0x7fec935bfc50>"
      ]
     },
     "execution_count": 9,
     "metadata": {},
     "output_type": "execute_result"
    },
    {
     "data": {
      "image/png": "[encoded data removed]",
      "text/plain": [
       "<Figure size 288x288 with 1 Axes>"
      ]
     },
     "metadata": {
      "needs_background": "light"
     },
     "output_type": "display_data"
    }
   ],
   "source": [
    "plt.matshow(a)"
   ]
  },
  {
   "cell_type": "code",
   "execution_count": null,
   "metadata": {},
   "outputs": [],
   "source": []
  }
 ],
 "metadata": {
  "kernelspec": {
   "display_name": "Python 3",
   "language": "python",
   "name": "python3"
  },
  "language_info": {
   "codemirror_mode": {
    "name": "ipython",
    "version": 3
   },
   "file_extension": ".py",
   "mimetype": "text/x-python",
   "name": "python",
   "nbconvert_exporter": "python",
   "pygments_lexer": "ipython3",
   "version": "3.7.7"
  }
 },
 "nbformat": 4,
 "nbformat_minor": 4
}
